{
 "cells": [
  {
   "cell_type": "code",
   "execution_count": null,
   "id": "6fa2e391",
   "metadata": {},
   "outputs": [],
   "source": [
    "%load_ext autoreload\n",
    "%autoreload 2"
   ]
  },
  {
   "cell_type": "code",
   "execution_count": null,
   "id": "b72e18f3",
   "metadata": {},
   "outputs": [],
   "source": [
    "import os\n",
    "import numpy as np\n",
    "import tensorflow as tf\n",
    "\n",
    "from datetime import datetime\n",
    "\n",
    "from GeodesicRelaxationDCCA.algorithms.losses_metrics import EpochWatchdog, EmptyWatchdog\n",
    "\n",
    "from GeodesicRelaxationDCCA.data.mnist import MNISTData\n",
    "\n",
    "from GeodesicRelaxationDCCA.experiments.mnist import MNISTDeepCCAExperiment, MNISTDeepCCASlackExperiment"
   ]
  },
  {
   "cell_type": "code",
   "execution_count": null,
   "id": "2e8d864b",
   "metadata": {},
   "outputs": [],
   "source": [
    "root_dir = 'tmp'\n",
    "\n",
    "if not os.path.exists(root_dir):\n",
    "    os.mkdir(root_dir)\n",
    "\n",
    "# Load synthetic data\n",
    "mnist_dataprovider = MNISTData.generate(50000, num_boxes=2, max_width=10, num_samples=50000)\n",
    "\n",
    "# Save dataset\n",
    "mnist_dataprovider.save(root_dir)\n"
   ]
  },
  {
   "cell_type": "markdown",
   "id": "1b9cf6de",
   "metadata": {},
   "source": [
    "# DCCA"
   ]
  },
  {
   "cell_type": "code",
   "execution_count": null,
   "id": "d1927212",
   "metadata": {
    "scrolled": true
   },
   "outputs": [],
   "source": [
    "for _ in range(5):\n",
    "    exp = MNISTDeepCCAExperiment(\n",
    "        log_dir=os.path.join(root_dir, 'slack_ref'), \n",
    "        encoder_config_v1=[(1536, 'sigmoid'), (1536, 'sigmoid'), (1536, 'sigmoid'), (1536, 'sigmoid'), (1536, 'sigmoid'), (15, None)],\n",
    "        encoder_config_v2=[(1536, 'sigmoid'), (1536, 'sigmoid'), (1536, 'sigmoid'), (1536, 'sigmoid'), (1536, 'sigmoid'), (15, None)],\n",
    "        dataprovider=mnist_dataprovider,\n",
    "        shared_dim=15,\n",
    "        lambda_rad=0,\n",
    "        topk=1,\n",
    "        max_perc=1,\n",
    "        lambda_l1=0,\n",
    "        lambda_l2=1e-5,\n",
    "        cca_reg=1e-4,\n",
    "        eval_epochs=10,\n",
    "        val_default_value=0.0,\n",
    "        convergence_threshold=0.000,\n",
    "    )\n",
    "\n",
    "    exp.train_multiple_epochs(2000)\n",
    "    \n",
    "    exp.save()"
   ]
  },
  {
   "cell_type": "markdown",
   "id": "0ad8b5f6",
   "metadata": {},
   "source": [
    "# Slack-DCCA"
   ]
  },
  {
   "cell_type": "code",
   "execution_count": null,
   "id": "25e9c8bd",
   "metadata": {},
   "outputs": [],
   "source": [
    "for res in [0.0, 0.1, 0.2, 0.3, 0.4, 0.5, 0.6, 0.7, 0.8, 0.9]:\n",
    "    for _ in range(5):\n",
    "        exp = MNISTDeepCCASlackExperiment(\n",
    "            log_dir=os.path.join(root_dir, 'slack'),\n",
    "            encoder_config_v1=[(1536, 'sigmoid'), (1536, 'sigmoid'), (1536, 'sigmoid'), (1536, 'sigmoid'), (1536, 'sigmoid'), (15, None)],\n",
    "            encoder_config_v2=[(1536, 'sigmoid'), (1536, 'sigmoid'), (1536, 'sigmoid'), (1536, 'sigmoid'), (1536, 'sigmoid'), (15, None)],\n",
    "            dataprovider=mnist_dataprovider,\n",
    "            shared_dim=15,\n",
    "            residual=res,\n",
    "            corr_reg=1e-10,\n",
    "            lambda_l1=0,\n",
    "            lambda_l2=1e-5,\n",
    "            eval_epochs=10,\n",
    "            val_default_value=0.0,\n",
    "            convergence_threshold=0.000\n",
    "        )\n",
    "        \n",
    "        exp.train_multiple_epochs(num_epochs=2000, num_inner_epochs=100, epsilon_inner_epochs=1e-10)\n",
    "        \n",
    "        exp.save()"
   ]
  },
  {
   "cell_type": "code",
   "execution_count": null,
   "id": "e88ceca5",
   "metadata": {},
   "outputs": [],
   "source": []
  }
 ],
 "metadata": {
  "kernelspec": {
   "display_name": "Python 3.7 (system)",
   "language": "python",
   "name": "python37"
  },
  "language_info": {
   "codemirror_mode": {
    "name": "ipython",
    "version": 3
   },
   "file_extension": ".py",
   "mimetype": "text/x-python",
   "name": "python",
   "nbconvert_exporter": "python",
   "pygments_lexer": "ipython3",
   "version": "3.7.12"
  }
 },
 "nbformat": 4,
 "nbformat_minor": 5
}
