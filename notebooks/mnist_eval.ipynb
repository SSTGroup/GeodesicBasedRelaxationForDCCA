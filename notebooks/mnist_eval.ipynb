{
 "cells": [
  {
   "cell_type": "code",
   "execution_count": null,
   "id": "0b06b812",
   "metadata": {},
   "outputs": [],
   "source": [
    "%load_ext autoreload\n",
    "%autoreload 2"
   ]
  },
  {
   "cell_type": "code",
   "execution_count": null,
   "id": "bf2d4e52",
   "metadata": {},
   "outputs": [],
   "source": [
    "import os\n",
    "os.environ[\"CUDA_VISIBLE_DEVICES\"] = \"-1\"\n",
    "import numpy as np\n",
    "import tensorflow as tf\n",
    "import pandas as pd"
   ]
  },
  {
   "cell_type": "code",
   "execution_count": null,
   "id": "11e1717a",
   "metadata": {},
   "outputs": [],
   "source": [
    "from GeodesicRelaxationDCCA.data.mnist import MNISTData\n",
    "from GeodesicRelaxationDCCA.experiments.mnist import MNISTEvaluation"
   ]
  },
  {
   "cell_type": "code",
   "execution_count": null,
   "id": "0e5788cb",
   "metadata": {},
   "outputs": [],
   "source": [
    "# Set experiments directory\n",
    "experiment_dir = 'tmp'\n",
    "\n",
    "# Load synthetic data\n",
    "mnist_dataprovider = MNISTData.from_saved_data(experiment_dir)"
   ]
  },
  {
   "cell_type": "markdown",
   "id": "561a7a88",
   "metadata": {},
   "source": [
    "## DCCA"
   ]
  },
  {
   "cell_type": "code",
   "execution_count": null,
   "id": "6f4a99a9",
   "metadata": {},
   "outputs": [],
   "source": [
    "validator = MNISTEvaluation(mnist_dataprovider, experiment_dir, regex='slack_ref')"
   ]
  },
  {
   "cell_type": "code",
   "execution_count": null,
   "id": "5281ae7f",
   "metadata": {},
   "outputs": [],
   "source": [
    "validator.validate_all(weights_to_load='latest', split='test')"
   ]
  },
  {
   "cell_type": "markdown",
   "id": "f9953487",
   "metadata": {},
   "source": [
    "## RDCCA"
   ]
  },
  {
   "cell_type": "code",
   "execution_count": null,
   "id": "d33e7db3",
   "metadata": {},
   "outputs": [],
   "source": [
    "validator = MNISTEvaluation(mnist_dataprovider, experiment_dir, regex='slack_net')"
   ]
  },
  {
   "cell_type": "code",
   "execution_count": null,
   "id": "0e05ea58",
   "metadata": {},
   "outputs": [],
   "source": [
    "validator.validate_all(weights_to_load='latest', split='test')"
   ]
  },
  {
   "cell_type": "markdown",
   "id": "0917fc62",
   "metadata": {},
   "source": [
    "## CCA"
   ]
  },
  {
   "cell_type": "code",
   "execution_count": null,
   "id": "92dd05d2",
   "metadata": {},
   "outputs": [],
   "source": [
    "from GeodesicRelaxationDCCA.algorithms.correlation import CCA\n",
    "from GeodesicRelaxationDCCA.algorithms.clustering import kmeans_clustering_acc"
   ]
  },
  {
   "cell_type": "code",
   "execution_count": null,
   "id": "3cebfc2a",
   "metadata": {},
   "outputs": [],
   "source": [
    "for data in mnist_dataprovider.training_data:\n",
    "    pass"
   ]
  },
  {
   "cell_type": "code",
   "execution_count": null,
   "id": "0c24aed6",
   "metadata": {},
   "outputs": [],
   "source": [
    "Ax, Ay, epsilon, omega, ccor, _, _ = CCA(data['nn_input_0'], data['nn_input_1'], 15)"
   ]
  },
  {
   "cell_type": "code",
   "execution_count": null,
   "id": "c26be2e8",
   "metadata": {},
   "outputs": [],
   "source": [
    "kmeans_clustering_acc(data_points=tf.transpose(epsilon), labels=data['labels'].numpy(), num_classes=10)"
   ]
  },
  {
   "cell_type": "code",
   "execution_count": null,
   "id": "4f854b4b",
   "metadata": {},
   "outputs": [],
   "source": [
    "kmeans_clustering_acc(data_points=tf.transpose(omega), labels=data['labels'].numpy(), num_classes=10)"
   ]
  },
  {
   "cell_type": "code",
   "execution_count": null,
   "id": "ab2c0323",
   "metadata": {},
   "outputs": [],
   "source": []
  }
 ],
 "metadata": {
  "kernelspec": {
   "display_name": "Python 3.7 (system)",
   "language": "python",
   "name": "python37"
  },
  "language_info": {
   "codemirror_mode": {
    "name": "ipython",
    "version": 3
   },
   "file_extension": ".py",
   "mimetype": "text/x-python",
   "name": "python",
   "nbconvert_exporter": "python",
   "pygments_lexer": "ipython3",
   "version": "3.7.12"
  }
 },
 "nbformat": 4,
 "nbformat_minor": 5
}
